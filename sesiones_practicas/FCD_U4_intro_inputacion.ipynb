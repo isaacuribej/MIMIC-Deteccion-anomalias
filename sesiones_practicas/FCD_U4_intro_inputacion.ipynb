{
 "cells": [
  {
   "cell_type": "markdown",
   "id": "bb8047b3",
   "metadata": {},
   "source": [
    "<img src=\"Local\\imgs\\U1\\banner_fcd.jpg\" alt=\"banner\" width=\"1100\"  height=\"150\">"
   ]
  },
  {
   "cell_type": "markdown",
   "id": "443d7de2",
   "metadata": {},
   "source": [
    "# <span style=\"color:black;\"><strong>Limpieza y Estretagias de Imputación</strong></span>  \n",
    "---\n",
    "<p align=\"right\">\n",
    "  <a href=\"https://colab.research.google.com/github/mariabda2/intro_data_2025/blob/main/FCD_U4_imputacion.ipynb?clone=true\" target=\"_blank\">\n",
    "    <img src=\"https://colab.research.google.com/assets/colab-badge.svg\" alt=\"Abrir en Colab\"/>\n",
    "  </a>\n",
    "</p>\n",
    "\n",
    "## <span style=\"color:#2F749F;\"><strong>🎯 Objetivos de aprendizaje</strong></span>\n",
    "\n",
    "> ✅ Comprender la **importancia de la imputación de datos** en el tratamiento de valores faltantes y su impacto en la calidad del análisis estadístico y predictivo.  \n",
    ">  \n",
    "> ✅ Diferenciar los **tipos de datos faltantes** (MCAR, MAR, MNAR) y reconocer sus implicaciones metodológicas en la selección de estrategias de imputación.  \n",
    ">  \n",
    "> ✅ Aplicar métodos **simples** (media, mediana, moda, constante) y **avanzados** (KNN, regresión, MICE, imputación múltiple) para reemplazar valores faltantes en distintos contextos.  \n",
    ">  \n",
    "> ✅ Evaluar la **idoneidad y el sesgo potencial** introducido por las técnicas de imputación, comparando resultados antes y después del tratamiento.  \n",
    ">  "
   ]
  },
  {
   "cell_type": "markdown",
   "id": "f4871154",
   "metadata": {},
   "source": [
    "# <span style=\"color:#2F749F;\"><strong>Introducción</strong></span>\n",
    "\n",
    "La **limpieza de datos** (o *data cleaning*) es el proceso de identificar, corregir o eliminar errores e inconsistencias en un conjunto de datos con el fin de mejorar su calidad y asegurar su utilidad para el análisis ([Rahm & Do, 2000](https://citeseerx.ist.psu.edu/document?repid=rep1&type=pdf&doi=379a09d1efabff918cae5790214e595b7e1cdb14)). Este proceso es esencial en cualquier flujo de trabajo en ciencia de datos, ya que la presencia de datos sucios puede conducir a conclusiones erróneas y decisiones inadecuadas.\n",
    "\n",
    "<div style=\"background-color:#e8f4fd; padding:15px; border-radius:8px; font-size:17px;\"> \n",
    "\n",
    "<b>El objetivo es mejorar la calidad del conjunto de datos en términos de:</b>\n",
    "\n",
    "- **Exactitud:** los valores reflejan la realidad.  \n",
    "- **Completitud:** ausencia de valores faltantes críticos.  \n",
    "- **Consistencia:** los datos no se contradicen entre sí.  \n",
    "- **Uniformidad:** los formatos están estandarizados.  \n",
    "- **Validez:** los datos cumplen con las reglas del dominio.  \n",
    "\n",
    "</div>\n",
    "\n",
    "A continuación, se describen las principales etapas del proceso, incluyendo las estrategias más comunes aplicadas en cada tipo de variable:\n",
    "\n",
    "## **1. Detección de valores faltantes**\n",
    "> Identificar celdas vacías, códigos especiales (NA, NULL, “?”) o inconsistencias que representen ausencia de información.  \n",
    "- Utilizar funciones como `df.isnull().sum()` o `df.info()` para cuantificar la magnitud del problema.  \n",
    "- Analizar el **patrón de ausencia** (aleatorio o no aleatorio) mediante pruebas estadísticas o visualizaciones de correlación de faltantes (*missingness maps*).  \n",
    "\n",
    "## **2. Eliminación de duplicados**\n",
    "> Se eliminan registros idénticos o redundantes que podrían sesgar el análisis.  \n",
    "- En Python: `df.drop_duplicates()`  \n",
    "- También puede aplicarse una eliminación condicional cuando los duplicados se definen por un subconjunto de columnas clave (por ejemplo, `ID` o `fecha`).  \n",
    "\n",
    "## **3. Corrección de errores tipográficos y de codificación**\n",
    "> Unificar valores escritos de forma inconsistente.  \n",
    "- Aplicar funciones de normalización (`str.lower()`, `strip()`) y diccionarios de reemplazo,  por ejemplo: “Bogotá”, “bogota”, “Bogota D.C.”.\n",
    "- En casos más complejos, utilizar medidas de similitud textual (*fuzzy matching*) para estandarizar categorías.  \n",
    "\n",
    "## **4. Normalización de formatos**\n",
    "> Alinear formatos de fechas, unidades de medida, categorías y escalas.  \n",
    "- Convertir tipos de datos (por ejemplo, de texto a numérico) para asegurar compatibilidad con algoritmos.  \n",
    "- Ejemplo: transformar \"12/10/25\" a formato ISO (`2025-10-12`).  \n",
    "\n",
    "## **5. Filtrado y tratamiento de valores atípicos (outliers)**\n",
    "- Detectar valores que se alejan significativamente del resto mediante:\n",
    "  - **Métodos univariados:** rango intercuartílico (IQR), z-score.  \n",
    "  - **Métodos multivariados:** distancia de Mahalanobis o algoritmos de aislamiento (*Isolation Forest*).  \n",
    "- Los valores atípicos pueden **eliminarse, truncarse o imputarse** según el contexto y la relevancia del dato.  \n",
    "\n",
    "## **6. Selección de estrategia de imputación**\n",
    "La elección del método depende del tipo de variable y del mecanismo de ausencia:\n",
    "\n",
    "| **Tipo de variable** | **Estrategias de imputación** | **Ejemplos de variables** |\n",
    "|----------------------|-------------------------|-----------------------------|\n",
    "| **Numéricas** | - Sustitución por media, mediana o moda<br>- Interpolación lineal o polinómica<br>- Imputación por KNN<br>- Modelos de regresión o MICE | Variables continuas como edad, ingresos, temperatura, peso |\n",
    "| **Categóricas** | - Sustitución por la moda<br>- Imputación por categoría más frecuente dentro de un grupo<br>- Imputación por modelo (árbol de decisión, regresión logística)<br>- Creación de una nueva categoría “Desconocido” | Variables como género, nivel educativo, tipo de producto |\n",
    "\n",
    "## **7. Validación posterior a la imputación**\n",
    "> Verificar que las imputaciones no alteren la estructura estadística del conjunto de datos.  \n",
    "- Comparar distribuciones antes y después del proceso.  \n",
    "- Documentar las decisiones tomadas (método utilizado, variables afectadas, número de imputaciones realizadas).  \n",
    "\n",
    "## \n",
    "<div style=\"background-color:#fff9e6; padding:15px; border-radius:8px; font-size:17px;\"> \n",
    "\n",
    "<b>Nota:</b>\n",
    "\n",
    "La imputación no consiste únicamente en “rellenar vacíos”, sino en **preservar la integridad estadística** del conjunto de datos. Por ello, se recomienda combinar criterios empíricos (análisis exploratorio) y teóricos (conocimiento del dominio) para justificar cada decisión.\n",
    "\n",
    "</div>\n",
    "\n"
   ]
  },
  {
   "cell_type": "markdown",
   "id": "f025f633",
   "metadata": {},
   "source": [
    "**Antes de aplicar cualquier técnica de imputación, analiza el tipo de variable (numérica, categórica o temporal) y evalúa el impacto que la imputación puede tener sobre los análisis posteriores o los modelos predictivos.**\n",
    "\n",
    "> **Funciones destacadas utilizadas**\n",
    "\n",
    "| **Función / Método** | **Descripción** | **Ejemplo de uso** |\n",
    "|-----------------------|----------------|--------------------|\n",
    "| `pd.to_datetime()` | Convierte una columna a formato de fecha, permitiendo el manejo de valores no válidos. | `df['A'] = pd.to_datetime(df['A'], errors='coerce')` |\n",
    "| `.isnull()` / `.sum()` | Identifica y contabiliza valores faltantes. | `df.isnull().sum()` |\n",
    "| `.apply()` | Permite aplicar funciones personalizadas a columnas. | `df['A'] = df['A'].apply(lambda x: np.nan if x < 0 else x)` |\n",
    "| `.fillna()` | Imputa valores faltantes con un valor específico o estadístico. | `df['A'] = df['A'].fillna(df['A'].median())` |\n",
    "| `.mode()` | Obtiene el valor más frecuente de una columna (moda). | `df['A'].fillna(df['A'].mode()[0])` |\n",
    "| `.interpolate()` | Rellena valores numéricos faltantes mediante interpolación lineal. | `df['A'] = df['A'].interpolate(method='linear')` |\n",
    "| `.ffill()` / `.bfill()` | Rellena valores faltantes propagando el último valor válido hacia adelante o hacia atrás. | `df['A'] = df['A'].ffill()` |\n",
    "| `df.duplicated(keep=False)` | Detecta registros duplicados en el DataFrame, mostrando `True` para todas las repeticiones. | `df[df.duplicated(keep=False)]` |\n",
    "| `get_close_matches()` | Busca coincidencias aproximadas entre cadenas para detectar errores tipográficos o categorías similares. | `from difflib import get_close_matches`<br>`get_close_matches('Medelin', ['Medellín', 'Bogotá', 'Cali'])` |\n",
    "| `pd.concat()` | Combina series o DataFrames para comparación o unión de resultados. | `pd.concat([faltantes_antes, faltantes_despues], axis=1)` |\n",
    "| `missingno` | Visualización gráfica de valores faltantes. | `import missingno as msno` |\n",
    "| `sklearn.impute` | Imputación avanzada (KNN, media, mediana, constante). | `from sklearn.impute import SimpleImputer` |\n",
    "\n"
   ]
  },
  {
   "cell_type": "markdown",
   "id": "06cd21aa",
   "metadata": {},
   "source": [
    "## <span style=\"color:#2F749F;\"><strong>Ejercicio 1. Limpieza e imputación de un conjunto de datos mixto</strong></span>\n",
    "\n",
    "#### <span style=\"color:#2F749F;\"><strong>📋 Instrucciones</strong></span>\n",
    "\n",
    "1. Crea el DataFrame base **df** ejecutando el siguiente código:\n",
    "    ```python\n",
    "    df = pd.DataFrame({\n",
    "        'Nombre': ['Ana', 'Luis', 'Pedro', None, 'Marta', 'Luis', 'Sofía'],\n",
    "        'Edad': [25, np.nan, 35, 29, -5, 25, None],\n",
    "        'Ciudad': ['Bogotá', 'Medellín', None, 'Medellín', 'Cali', 'Bogotá', 'Cali'],\n",
    "        'Ingreso': [3500, 4800, np.nan, 5200, 5100, np.nan, 4700],\n",
    "        'FechaIngreso': ['2023-01-01', '2023-01-05', None, '2023-01-10', '2023-01-12', None, '2023-01-15']\n",
    "    })\n",
    "\n",
    "2. En un nuevo notebook, aplica las etapas del proceso de limpieza e imputación de datos que consideres necesarias sobre el DataFrame df. Ten encuenta incluir:\n",
    "    - Código correctamente comentado y ejecutado.\n",
    "    - Explicaciones breves de cada paso.\n",
    "    - Resultados visuales o estadísticos que evidencien las transformaciones."
   ]
  },
  {
   "cell_type": "code",
   "execution_count": null,
   "id": "e2eb49d1-0b33-46ed-a3e5-1e06d396b9ab",
   "metadata": {},
   "outputs": [],
   "source": []
  },
  {
   "cell_type": "markdown",
   "id": "73080d94",
   "metadata": {},
   "source": [
    "## <span style=\"color:#2F749F;\"><strong>Ejercicio 2. Limpieza de duplicados</strong></span>\n",
    "\n",
    "#### <span style=\"color:#2F749F;\"><strong>📋 Instrucciones</strong></span>\n",
    "\n",
    "1. Crea el DataFrame base **df** ejecutando el siguiente código:\n",
    "    ```python\n",
    "    df = pd.DataFrame({\n",
    "        'ID': [101, 102, 102, 103, 104, 104, 104],\n",
    "        'Nombre': ['Ana', 'Luis', 'Luis', 'Marta', 'Carlos', 'Carlos', 'Carlos'],\n",
    "        'Edad': [25, 30, 30, 29, 40, 40, 41],\n",
    "        'Ciudad': ['Bogotá', 'Cali', 'Cali', 'Medellín', 'Cali', 'Cali', 'Cali'],\n",
    "        'FechaRegistro': ['2023-01-01', '2023-01-05', '2023-01-05', '2023-01-10', \n",
    "                        '2023-01-15', '2023-01-15', '2023-01-16']\n",
    "    })\n",
    "\n",
    "2.  En el mismo notebook anterior, para el nuevo dataframe df, responde a las siguientes preguntas (utilizando python):\n",
    "    - ¿Cuál es el total de registros originales?\n",
    "    - ¿Cuáles y cuántos son los duplicados exactos?\n",
    "    - ¿Cuáles y cuántos son los duplicados por varias columnas?\n",
    "    - ¿Cuántos registros debes eliminar?\n",
    "    - ¿Cuántos registros quedan después de la limpieza?"
   ]
  },
  {
   "cell_type": "markdown",
   "id": "dca274a5",
   "metadata": {},
   "source": [
    "## <span style=\"color:#2F749F;\"><strong>Ejercicio 3. Corrección de errores tipográficos o de codificación</strong></span>\n",
    "\n",
    "#### <span style=\"color:#2F749F;\"><strong>📋 Instrucciones</strong></span>\n",
    "\n",
    "1. Crea el DataFrame base **df** ejecutando el siguiente código:\n",
    "    ```python\n",
    "    df = pd.DataFrame({\n",
    "        'Ciudad': ['bogota', 'Bogotá', 'BOGOTA', 'bogotá', 'bogata', 'Bógota', 'BogoTa', 'Cali', 'calí', 'medellín', 'medellin']\n",
    "    })\n",
    "\n",
    "2.  En el mismo notebook anterior, para el nuevo dataframe df, estandariza la variable ciudad utilizando python. "
   ]
  },
  {
   "cell_type": "markdown",
   "id": "d18e0e07",
   "metadata": {},
   "source": [
    "**Realice commit de su notebook, en la carpeta sesiones prácticas**"
   ]
  },
  {
   "cell_type": "markdown",
   "id": "b7731fd4",
   "metadata": {},
   "source": [
    "# <span style=\"color:#2F749F;\"><strong>Referencias</strong></span>\n",
    "\n",
    "Little, R. J. A., & Rubin, D. B. (2019). [*Statistical analysis with missing data*](https://onlinelibrary.wiley.com/doi/book/10.1002/9781119482260). John Wiley & Sons.  \n",
    "\n",
    "Van Buuren, S. (2018). [*Flexible imputation of missing data*](https://stefvanbuuren.name/fimd/). CRC Press.  \n",
    "\n",
    "Zhang, S. (2011). [*Shell-neighbor method and its application in missing data imputation*](https://link.springer.com/article/10.1007/s10489-009-0207-6#:~:text=The%20SNI%20fills%20in%20an,neighbors%20of%20the%20incomplete%20instance.). *Knowledge-Based Systems, 24*(5), 709–715.  \n"
   ]
  }
 ],
 "metadata": {
  "kernelspec": {
   "display_name": "Python [conda env:base] *",
   "language": "python",
   "name": "conda-base-py"
  },
  "language_info": {
   "codemirror_mode": {
    "name": "ipython",
    "version": 3
   },
   "file_extension": ".py",
   "mimetype": "text/x-python",
   "name": "python",
   "nbconvert_exporter": "python",
   "pygments_lexer": "ipython3",
   "version": "3.13.5"
  }
 },
 "nbformat": 4,
 "nbformat_minor": 5
}
