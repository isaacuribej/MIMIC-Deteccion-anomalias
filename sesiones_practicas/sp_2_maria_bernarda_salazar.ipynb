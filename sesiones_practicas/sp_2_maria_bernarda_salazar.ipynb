{
 "cells": [
  {
   "cell_type": "markdown",
   "metadata": {},
   "source": [
    "<img src=\"imgs\\banner_fcd.jpg\" alt=\"bannersp\" width=\"1100\"  height=\"150\">"
   ]
  },
  {
   "cell_type": "markdown",
   "metadata": {},
   "source": [
    "## <span style=\"color:#2F749F;\"><strong>📦 Sesión práctica 2: Análisis Univariado, bivariado y multivariado</strong></span>\n",
    "---\n",
    "<p align=\"right\">\n",
    "  <a href=\"https://colab.research.google.com/#create=true\" target=\"_blank\">\n",
    "    <img src=\"https://colab.research.google.com/assets/colab-badge.svg\" alt=\"Abrir en Colab\"/>\n",
    "  </a>\n",
    "</p>\n"
   ]
  },
  {
   "cell_type": "markdown",
   "metadata": {},
   "source": [
    "## <span style=\"color:black;\"><strong>Datos del estudiante</strong></span>"
   ]
  },
  {
   "cell_type": "code",
   "execution_count": 1,
   "metadata": {},
   "outputs": [],
   "source": [
    "nombre = input(\"📝 Ingresa tu nombre completo: \")\n",
    "correo = input(\"📧 Ingresa tu correo electrónico: \")\n",
    "cedula = input(\"🔢 Ingresa los últimos 4 dígitos de tu cédula: \")"
   ]
  },
  {
   "cell_type": "markdown",
   "metadata": {},
   "source": [
    "## <span style=\"color:black;\"><strong>Parte 1: Análisis Univariado</strong></span>"
   ]
  },
  {
   "cell_type": "markdown",
   "metadata": {},
   "source": [
    "### <span style=\"color:#2F749F;\"><strong>Ejercicio 1: Cálculo de medidas de tendencia central</strong></span>\n",
    "\n",
    "A partir de una muestra simulada de ingresos, calcula la **media, mediana y moda**, y luego a interpretarlas.\n",
    "\n",
    "1. Usa el número base `528310` (debes reemplazarlo con los últimos 6 dígitos de tu documento de identificación).  \n",
    "2. Con este número genera una semilla (`np.random.seed`) para que los resultados sean reproducibles.  \n",
    "3. Los ingresos se simulan con una distribución normal:  \n",
    "   - Media teórica: `(base % 10) + 2`  \n",
    "   - Desviación estándar: `2`  \n",
    "   - Tamaño de muestra: `30`  \n",
    "4. Los valores negativos se reemplazan por cero (pues los ingresos no pueden ser negativos).  \n",
    "5. Grafica tus resultados (ver imagen de ejemplo)\n",
    "\n",
    "<p align=\"center\">\n",
    "    <img src=\"imgs\\sp_2_e1.png\" alt=\"sp_2_e1\" width=\"900\"  height=\"400\">\n",
    "</p>\n"
   ]
  },
  {
   "cell_type": "markdown",
   "metadata": {},
   "source": [
    "### <span style=\"color:#2F749F;\"><strong>Ejercicio 2: Cálculo de medidas de dispersión</strong></span>\n",
    "\n",
    "A partir de la muestra generada en el Ejercicio 1, analiza qué tan dispersos están los datos respecto a su media. Calcula:\n",
    "1. Rango\n",
    "2. Varianza\n",
    "3. Desviación estándar\n",
    "4. Coeficiente de variación\n",
    "5. Genera una gráfica con los resultados obtenidos (ver imagen de ejemplo)\n",
    "\n",
    "<p align=\"center\">\n",
    "    <img src=\"imgs\\sp_2_e2.png\" alt=\"sp_2_e2\" width=\"900\"  height=\"400\">\n",
    "</p>"
   ]
  },
  {
   "cell_type": "markdown",
   "metadata": {},
   "source": [
    "### <span style=\"color:#2F749F;\"><strong>Ejercicio 3: Cálculo de medidas de distribución</strong></span>\n",
    "\n",
    "A partir de la muestra generada en el Ejercicio 1, analiza la distribución de los datos. Calcula:\n",
    "1. Asimetría\n",
    "2. Curtosis\n",
    "3. Realiza la comparación con la distribución normal (ver la imagen de ejemplo)\n",
    "\n",
    "<p align=\"center\">\n",
    "    <img src=\"imgs\\sp_2_e3.png\" alt=\"sp_2_e3\" width=\"900\"  height=\"400\">\n",
    "</p>\n",
    "\n"
   ]
  },
  {
   "cell_type": "markdown",
   "metadata": {},
   "source": [
    "### <span style=\"color:#2F749F;\"><strong>Ejercicio 4: Cálculo de medidas de percentiles</strong></span>\n",
    "\n",
    "A partir de la muestra generada en el Ejercicio 1, calcula los percentiles de tus datos. Calcula:\n",
    "1. Percentiles\n",
    "2. Deciles\n",
    "3. Cuartiles\n",
    "4. Grafica los anteriores percentiles calculados, sobre la distribución de tus datos (ver la imagen de ejemplo)\n",
    "\n",
    "<p align=\"center\">\n",
    "    <img src=\"imgs\\sp_2_e4.png\" alt=\"sp_2_e4\" width=\"900\"  height=\"400\">\n",
    "</p>\n"
   ]
  },
  {
   "cell_type": "markdown",
   "metadata": {},
   "source": [
    "## <span style=\"color:black;\"><strong>Parte 2: Análisis Bivariado</strong></span>"
   ]
  },
  {
   "cell_type": "markdown",
   "metadata": {},
   "source": [
    "### <span style=\"color:#2F749F;\"><strong>Ejercicio 5: Análisis de correlación</strong></span>\n",
    "\n",
    "En esta segunda parte, genera **dos variables** a partir de tú número de cédula y realiza un análisis **bivariado** para calcular la relación entre ellas.\n",
    "\n",
    "1. Use los **6 últimos dígitos** de su cédula como base (similar al Ejercicio 1).  \n",
    "2. Genere dos variables aleatorias (ejemplo: `ingresos` y `gastos`) con distribución normal, usando esa base como **semilla reproducible**.  \n",
    "3. Calcule los coeficientes de correlación de **Pearson** y **Spearman**. \n",
    "4. Grafique las variables analizadas (ver la imagen de ejemplo)\n",
    "5. Interprete los resultados.  \n",
    "\n",
    "<p align=\"center\">\n",
    "    <img src=\"imgs\\sp_2_e5.png\" alt=\"sp_2_e5\" width=\"900\"  height=\"400\">\n",
    "</p>"
   ]
  },
  {
   "cell_type": "markdown",
   "metadata": {},
   "source": [
    "### <span style=\"color:#2F749F;\"><strong>Ejercicio 6: Chi-Cuadrado</strong></span>\n",
    "\n",
    "En esta parte, analiza si existe **asociación estadística** entre dos variables categóricas simuladas a partir de tu número de cédula.\n",
    "\n",
    "1. Usa los **6 últimos dígitos** de tu cédula como base para generar una semilla reproducible.\n",
    "2. Simula una muestra de **60 personas** con dos variables categóricas:\n",
    "   - `Nivel educativo`: Básico, Medio, Superior.\n",
    "   - `Acceso a internet`: Sí, No.\n",
    "3. Crea una **tabla de contingencia** entre ambas variables.\n",
    "4. Aplica la **prueba de Chi cuadrado de independencia**.\n",
    "5. Visualiza la distribución conjunta con un mapa de calor (ver la imagen de con la información de ejemplo).\n",
    "6. Interpreta el resultado.\n",
    "\n",
    "<p align=\"center\">\n",
    "    <img src=\"imgs\\sp_2_e6.png\" alt=\"sp_2_e6\" width=\"900\"  height=\"700\">\n",
    "</p>"
   ]
  }
 ],
 "metadata": {
  "colab": {
   "provenance": [],
   "toc_visible": true
  },
  "kernelspec": {
   "display_name": "base",
   "language": "python",
   "name": "python3"
  },
  "language_info": {
   "codemirror_mode": {
    "name": "ipython",
    "version": 3
   },
   "file_extension": ".py",
   "mimetype": "text/x-python",
   "name": "python",
   "nbconvert_exporter": "python",
   "pygments_lexer": "ipython3",
   "version": "3.12.7"
  }
 },
 "nbformat": 4,
 "nbformat_minor": 4
}
